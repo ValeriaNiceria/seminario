{
 "cells": [
  {
   "cell_type": "markdown",
   "metadata": {
    "colab_type": "text",
    "id": "S-xH5ava-LoO"
   },
   "source": [
    "# Operações Matemáticas com Tensores"
   ]
  },
  {
   "cell_type": "code",
   "execution_count": 0,
   "metadata": {
    "colab": {},
    "colab_type": "code",
    "id": "qEM3nara9nby"
   },
   "outputs": [],
   "source": [
    "import tensorflow as tf"
   ]
  },
  {
   "cell_type": "markdown",
   "metadata": {
    "colab_type": "text",
    "id": "T1tbxaX7-jxy"
   },
   "source": [
    "## Soma"
   ]
  },
  {
   "cell_type": "code",
   "execution_count": 0,
   "metadata": {
    "colab": {},
    "colab_type": "code",
    "id": "vbjRo9Pr-OhV"
   },
   "outputs": [],
   "source": [
    "# Constantes\n",
    "const_a = tf.constant(5)\n",
    "const_b = tf.constant(9)"
   ]
  },
  {
   "cell_type": "code",
   "execution_count": 3,
   "metadata": {
    "colab": {
     "base_uri": "https://localhost:8080/",
     "height": 35
    },
    "colab_type": "code",
    "id": "5IEqIjyq-lRQ",
    "outputId": "09879e64-4941-4371-c99a-355523510cd8"
   },
   "outputs": [
    {
     "name": "stdout",
     "output_type": "stream",
     "text": [
      "Tensor(\"Const:0\", shape=(), dtype=int32)\n"
     ]
    }
   ],
   "source": [
    "print(const_a)"
   ]
  },
  {
   "cell_type": "code",
   "execution_count": 0,
   "metadata": {
    "colab": {},
    "colab_type": "code",
    "id": "omQqZMSN_LMh"
   },
   "outputs": [],
   "source": [
    "# Soma\n",
    "total = const_a + const_b"
   ]
  },
  {
   "cell_type": "code",
   "execution_count": 5,
   "metadata": {
    "colab": {
     "base_uri": "https://localhost:8080/",
     "height": 35
    },
    "colab_type": "code",
    "id": "iQWszggE_RQA",
    "outputId": "cf444cae-5437-4e0d-9c17-383454917a57"
   },
   "outputs": [
    {
     "name": "stdout",
     "output_type": "stream",
     "text": [
      "Tensor(\"add:0\", shape=(), dtype=int32)\n"
     ]
    }
   ],
   "source": [
    "print(total)"
   ]
  },
  {
   "cell_type": "code",
   "execution_count": 6,
   "metadata": {
    "colab": {
     "base_uri": "https://localhost:8080/",
     "height": 54
    },
    "colab_type": "code",
    "id": "aVsg1lsy_So-",
    "outputId": "ea51fa68-32a8-4ffd-d19d-cf2a357bf54e"
   },
   "outputs": [
    {
     "name": "stdout",
     "output_type": "stream",
     "text": [
      "\n",
      " Soma do node1 com o node2 é: 14.000000\n"
     ]
    }
   ],
   "source": [
    "# Sessão TensorFlow\n",
    "with tf.Session() as sess:\n",
    "  print('\\n Soma do node1 com o node2 é: %f' % sess.run(total))"
   ]
  },
  {
   "cell_type": "code",
   "execution_count": 7,
   "metadata": {
    "colab": {
     "base_uri": "https://localhost:8080/",
     "height": 54
    },
    "colab_type": "code",
    "id": "3i1WOAuU_nxd",
    "outputId": "2579add3-b3ab-47a4-8eac-45d9b3a6886b"
   },
   "outputs": [
    {
     "name": "stdout",
     "output_type": "stream",
     "text": [
      "\n",
      "A soma do node1 com o node2 é: 14\n"
     ]
    }
   ],
   "source": [
    "# Criando os nodes no grafo computacional\n",
    "node1 = tf.constant(5, dtype=tf.int32)\n",
    "node2 = tf.constant(9, dtype=tf.int32)\n",
    "node3 = tf.add(node1, node2)\n",
    "\n",
    "# Cria a sessão TensorFlow\n",
    "sess = tf.Session()\n",
    "\n",
    "# Executa o grafo\n",
    "print('\\nA soma do node1 com o node2 é:', sess.run(node3))\n",
    "\n",
    "# Fecha a sessão\n",
    "sess.close()"
   ]
  },
  {
   "cell_type": "markdown",
   "metadata": {
    "colab_type": "text",
    "id": "5SonpkexBoqR"
   },
   "source": [
    "## Subtração"
   ]
  },
  {
   "cell_type": "code",
   "execution_count": 0,
   "metadata": {
    "colab": {},
    "colab_type": "code",
    "id": "zTr5eG18BQK6"
   },
   "outputs": [],
   "source": [
    "# Tensores randômicos\n",
    "rand_a = tf.random_normal([3], 2.0)\n",
    "rand_b = tf.random_uniform([3], 1.0, 4.0)"
   ]
  },
  {
   "cell_type": "code",
   "execution_count": 9,
   "metadata": {
    "colab": {
     "base_uri": "https://localhost:8080/",
     "height": 35
    },
    "colab_type": "code",
    "id": "AnNMi93gB5yJ",
    "outputId": "661b9e03-2016-484d-f201-6309e0eb370b"
   },
   "outputs": [
    {
     "name": "stdout",
     "output_type": "stream",
     "text": [
      "Tensor(\"random_normal:0\", shape=(3,), dtype=float32)\n"
     ]
    }
   ],
   "source": [
    "print(rand_a)"
   ]
  },
  {
   "cell_type": "code",
   "execution_count": 10,
   "metadata": {
    "colab": {
     "base_uri": "https://localhost:8080/",
     "height": 35
    },
    "colab_type": "code",
    "id": "Ct0kD8dRB756",
    "outputId": "fc3bf6a9-b0c3-4142-d708-6870546abc14"
   },
   "outputs": [
    {
     "name": "stdout",
     "output_type": "stream",
     "text": [
      "Tensor(\"random_uniform:0\", shape=(3,), dtype=float32)\n"
     ]
    }
   ],
   "source": [
    "print(rand_b)"
   ]
  },
  {
   "cell_type": "code",
   "execution_count": 0,
   "metadata": {
    "colab": {},
    "colab_type": "code",
    "id": "4aZpCOZxB-IQ"
   },
   "outputs": [],
   "source": [
    "# Subtração\n",
    "diff = tf.subtract(rand_a, rand_b)"
   ]
  },
  {
   "cell_type": "code",
   "execution_count": 12,
   "metadata": {
    "colab": {
     "base_uri": "https://localhost:8080/",
     "height": 127
    },
    "colab_type": "code",
    "id": "Yxs1QwUmCJb8",
    "outputId": "7d73f4cd-8fde-4df7-d41f-faac7091e9b1"
   },
   "outputs": [
    {
     "name": "stdout",
     "output_type": "stream",
     "text": [
      "\n",
      "Tensor rand_a:  [0.629421  3.6250856 1.1961491]\n",
      "\n",
      "Tensor rand_b:  [3.902409  3.4348829 1.9384903]\n",
      "\n",
      "Subtração entre os 2 tensores é:  [-1.2752157  1.7908037 -0.2060076]\n"
     ]
    }
   ],
   "source": [
    "# Sessão\n",
    "with tf.Session() as sess:\n",
    "  print('\\nTensor rand_a: ', sess.run(rand_a))\n",
    "  print('\\nTensor rand_b: ', sess.run(rand_b))\n",
    "  print('\\nSubtração entre os 2 tensores é: ', sess.run(diff))"
   ]
  },
  {
   "cell_type": "markdown",
   "metadata": {
    "colab_type": "text",
    "id": "g7kK7u59Dif1"
   },
   "source": [
    "## Divisão"
   ]
  },
  {
   "cell_type": "code",
   "execution_count": 0,
   "metadata": {
    "colab": {},
    "colab_type": "code",
    "id": "CC87X6vHCi1B"
   },
   "outputs": [],
   "source": [
    "# Divisão\n",
    "node1 = tf.constant(21, dtype = tf.int32)\n",
    "node2 = tf.constant(7, dtype = tf.int32)"
   ]
  },
  {
   "cell_type": "code",
   "execution_count": 14,
   "metadata": {
    "colab": {
     "base_uri": "https://localhost:8080/",
     "height": 92
    },
    "colab_type": "code",
    "id": "rIBejS9RDhLd",
    "outputId": "c91a1011-bc94-4638-85ee-d4e89514851d"
   },
   "outputs": [
    {
     "name": "stdout",
     "output_type": "stream",
     "text": [
      "WARNING:tensorflow:From <ipython-input-14-29650240f182>:1: div (from tensorflow.python.ops.math_ops) is deprecated and will be removed in a future version.\n",
      "Instructions for updating:\n",
      "Deprecated in favor of operator or tf.math.divide.\n"
     ]
    }
   ],
   "source": [
    "div = tf.div(node1, node2)"
   ]
  },
  {
   "cell_type": "code",
   "execution_count": 15,
   "metadata": {
    "colab": {
     "base_uri": "https://localhost:8080/",
     "height": 54
    },
    "colab_type": "code",
    "id": "ooKy4fziDqWz",
    "outputId": "c0f1b289-7308-4a5a-88f8-a9c5bc7a312e"
   },
   "outputs": [
    {
     "name": "stdout",
     "output_type": "stream",
     "text": [
      "\n",
      "Divisão entre os 2 tensores é:  3\n"
     ]
    }
   ],
   "source": [
    "# Sessão\n",
    "with tf.Session() as sess:\n",
    "  print('\\nDivisão entre os 2 tensores é: ', sess.run(div))"
   ]
  },
  {
   "cell_type": "markdown",
   "metadata": {
    "colab_type": "text",
    "id": "s926WtlrEyNF"
   },
   "source": [
    "## Multiplicação"
   ]
  },
  {
   "cell_type": "code",
   "execution_count": 0,
   "metadata": {
    "colab": {},
    "colab_type": "code",
    "id": "DCdlhYMBEhJf"
   },
   "outputs": [],
   "source": [
    "# Criando tensores\n",
    "tensor_a = tf.constant([[4., 2.]])\n",
    "tensor_b = tf.constant([[3.], [7.]])"
   ]
  },
  {
   "cell_type": "code",
   "execution_count": 17,
   "metadata": {
    "colab": {
     "base_uri": "https://localhost:8080/",
     "height": 35
    },
    "colab_type": "code",
    "id": "gVfxl1-1FKoh",
    "outputId": "0f0ea290-15fc-4f76-bfea-fa5103ea7ef7"
   },
   "outputs": [
    {
     "name": "stdout",
     "output_type": "stream",
     "text": [
      "Tensor(\"Const_6:0\", shape=(1, 2), dtype=float32)\n"
     ]
    }
   ],
   "source": [
    "print(tensor_a)"
   ]
  },
  {
   "cell_type": "code",
   "execution_count": 18,
   "metadata": {
    "colab": {
     "base_uri": "https://localhost:8080/",
     "height": 35
    },
    "colab_type": "code",
    "id": "fSRwBTcUFMye",
    "outputId": "4c801c74-c1c9-41fd-a993-2ac23bd69d75"
   },
   "outputs": [
    {
     "name": "stdout",
     "output_type": "stream",
     "text": [
      "Tensor(\"Const_7:0\", shape=(2, 1), dtype=float32)\n"
     ]
    }
   ],
   "source": [
    "print(tensor_b)"
   ]
  },
  {
   "cell_type": "code",
   "execution_count": 0,
   "metadata": {
    "colab": {},
    "colab_type": "code",
    "id": "cH9xLTg7FO_z"
   },
   "outputs": [],
   "source": [
    "# Multiplicação\n",
    "prod = tf.multiply(tensor_a, tensor_b)"
   ]
  },
  {
   "cell_type": "code",
   "execution_count": 20,
   "metadata": {
    "colab": {
     "base_uri": "https://localhost:8080/",
     "height": 219
    },
    "colab_type": "code",
    "id": "IrwWn7TXFeWc",
    "outputId": "985c9fa2-9364-483b-b3bd-54e70913e032"
   },
   "outputs": [
    {
     "name": "stdout",
     "output_type": "stream",
     "text": [
      "\n",
      "tensor_a: \n",
      " [[4. 2.]]\n",
      "\n",
      "tensor_b: \n",
      " [[3.]\n",
      " [7.]]\n",
      "\n",
      "Produto Element-wise. Entre os Tensores: \n",
      " [[12.  6.]\n",
      " [28. 14.]]\n"
     ]
    }
   ],
   "source": [
    "# Executa a sessão\n",
    "with tf.Session() as sess:\n",
    "  print('\\ntensor_a: \\n', sess.run(tensor_a))\n",
    "  print('\\ntensor_b: \\n', sess.run(tensor_b))\n",
    "  print('\\nProduto Element-wise. Entre os Tensores: \\n', sess.run(prod))"
   ]
  },
  {
   "cell_type": "code",
   "execution_count": 0,
   "metadata": {
    "colab": {},
    "colab_type": "code",
    "id": "roGdztXoGeS4"
   },
   "outputs": [],
   "source": [
    "# Outro exemplo de Multiplicação de Matrizes\n",
    "mat_a = tf.constant([[2, 3], [9, 2], [4, 5]])\n",
    "mat_b = tf.constant([[6, 4, 5], [3, 7, 2]])"
   ]
  },
  {
   "cell_type": "code",
   "execution_count": 22,
   "metadata": {
    "colab": {
     "base_uri": "https://localhost:8080/",
     "height": 35
    },
    "colab_type": "code",
    "id": "SgkkIEzxHWPJ",
    "outputId": "5c5f27f8-232f-4b0f-f8a1-4132de28f533"
   },
   "outputs": [
    {
     "name": "stdout",
     "output_type": "stream",
     "text": [
      "Tensor(\"Const_8:0\", shape=(3, 2), dtype=int32)\n"
     ]
    }
   ],
   "source": [
    "print(mat_a)"
   ]
  },
  {
   "cell_type": "code",
   "execution_count": 23,
   "metadata": {
    "colab": {
     "base_uri": "https://localhost:8080/",
     "height": 35
    },
    "colab_type": "code",
    "id": "W5ndLqNsHYVe",
    "outputId": "e2e45138-f5ca-4dac-a103-5642b1fe8888"
   },
   "outputs": [
    {
     "name": "stdout",
     "output_type": "stream",
     "text": [
      "Tensor(\"Const_9:0\", shape=(2, 3), dtype=int32)\n"
     ]
    }
   ],
   "source": [
    "print(mat_b)"
   ]
  },
  {
   "cell_type": "code",
   "execution_count": 0,
   "metadata": {
    "colab": {},
    "colab_type": "code",
    "id": "L-hCfK7bHZ4m"
   },
   "outputs": [],
   "source": [
    "# Multiplicação\n",
    "mat_prod = tf.matmul(mat_a, mat_b)"
   ]
  },
  {
   "cell_type": "code",
   "execution_count": 25,
   "metadata": {
    "colab": {
     "base_uri": "https://localhost:8080/",
     "height": 274
    },
    "colab_type": "code",
    "id": "rimWu0jgHl-Q",
    "outputId": "1cd73ea5-231a-457c-9652-0146cbde23b8"
   },
   "outputs": [
    {
     "name": "stdout",
     "output_type": "stream",
     "text": [
      "\n",
      "Tensor mat_a: \n",
      " [[2 3]\n",
      " [9 2]\n",
      " [4 5]]\n",
      "\n",
      "Tensor mat_b: \n",
      " [[6 4 5]\n",
      " [3 7 2]]\n",
      "\n",
      "Produto Element-wise. Entre os tensores (Matrizes): \n",
      " [[21 29 16]\n",
      " [60 50 49]\n",
      " [39 51 30]]\n"
     ]
    }
   ],
   "source": [
    "# Executa a sessão\n",
    "with tf.Session() as sess:\n",
    "  print('\\nTensor mat_a: \\n', sess.run(mat_a))\n",
    "  print('\\nTensor mat_b: \\n', sess.run(mat_b))\n",
    "  print('\\nProduto Element-wise. Entre os tensores (Matrizes): \\n', sess.run(mat_prod))"
   ]
  }
 ],
 "metadata": {
  "colab": {
   "collapsed_sections": [],
   "name": "operacoes_matematicas.ipynb",
   "provenance": [],
   "version": "0.3.2"
  },
  "kernelspec": {
   "display_name": "Python 3",
   "language": "python",
   "name": "python3"
  },
  "language_info": {
   "codemirror_mode": {
    "name": "ipython",
    "version": 3
   },
   "file_extension": ".py",
   "mimetype": "text/x-python",
   "name": "python",
   "nbconvert_exporter": "python",
   "pygments_lexer": "ipython3",
   "version": "3.7.1"
  }
 },
 "nbformat": 4,
 "nbformat_minor": 1
}
