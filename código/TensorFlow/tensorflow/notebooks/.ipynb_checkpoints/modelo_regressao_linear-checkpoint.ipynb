{
 "cells": [
  {
   "cell_type": "markdown",
   "metadata": {
    "colab_type": "text",
    "id": "rCHC113S_H4O"
   },
   "source": [
    "# Construindo um modelo de regressão linear com TensorFlow"
   ]
  },
  {
   "cell_type": "code",
   "execution_count": 0,
   "metadata": {
    "colab": {},
    "colab_type": "code",
    "id": "jo8oN09o9-y1"
   },
   "outputs": [],
   "source": [
    "# Imports\n",
    "import tensorflow as tf\n",
    "import numpy as np\n",
    "import matplotlib.pyplot as plt\n",
    "%matplotlib inline"
   ]
  },
  {
   "cell_type": "markdown",
   "metadata": {
    "colab_type": "text",
    "id": "7nwuoPI-_koU"
   },
   "source": [
    "## Definindo os hyperparâmetros do modelo"
   ]
  },
  {
   "cell_type": "code",
   "execution_count": 0,
   "metadata": {
    "colab": {},
    "colab_type": "code",
    "id": "GmK_zYXF_brH"
   },
   "outputs": [],
   "source": [
    "# Hyperparâmetros do modelo\n",
    "learning_rate = 0.01\n",
    "training_epochs = 2000\n",
    "display_step = 200"
   ]
  },
  {
   "cell_type": "markdown",
   "metadata": {
    "colab_type": "text",
    "id": "xNL5cTNbApW0"
   },
   "source": [
    "## Definindo os datasets de treino e de teste\n",
    "#### Considere x como o tamanho de uma casa e y o preço de uma casa"
   ]
  },
  {
   "cell_type": "code",
   "execution_count": 0,
   "metadata": {
    "colab": {},
    "colab_type": "code",
    "id": "NXcSnsfoAoQR"
   },
   "outputs": [],
   "source": [
    "# Dataset de treino\n",
    "train_x = np.asarray([3.3, 4.4, 5.5, 6.71, 6.93, 4.168, 9.779, 6.182, 7.59, 2.167, 7.042, 10.791, 5.313, 7.997, 5.654, 9.27, 3.1])\n",
    "train_y = np.asarray([1.7, 2.76, 2.09, 3.19, 1.694, 1.573, 3.366, 2.596, 2.53, 1.221, 2.827, 3.465, 1.65, 2.904, 2.42, 2.94, 1.3])\n",
    "n_samples = train_x.shape[0]\n",
    "\n",
    "# Dataset de teste\n",
    "test_x = np.asarray([6.83, 4.668, 8.9, 7.91, 5.7, 8.7, 3.1, 2.1])\n",
    "test_y = np.asarray([1.84, 2.273, 3.2, 2.831, 2.92, 3.24, 1.35, 1.03])"
   ]
  },
  {
   "cell_type": "markdown",
   "metadata": {
    "colab_type": "text",
    "id": "WNt6hQhDOcCj"
   },
   "source": [
    "## Placeholders e variáveis"
   ]
  },
  {
   "cell_type": "code",
   "execution_count": 0,
   "metadata": {
    "colab": {},
    "colab_type": "code",
    "id": "SR0tYljBC46b"
   },
   "outputs": [],
   "source": [
    "# Placeholders para as variáveis preditoras (x) e para variável target (y)\n",
    "x = tf.placeholder(tf.float32)\n",
    "y = tf.placeholder(tf.float32)\n",
    "\n",
    "# Pesos e bias do modelo\n",
    "w = tf.Variable(np.random.randn(), name = \"wight\")\n",
    "b = tf.Variable(np.random.randn(), name = \"bias\")"
   ]
  },
  {
   "cell_type": "markdown",
   "metadata": {
    "colab_type": "text",
    "id": "VvRbl75aPyee"
   },
   "source": [
    "## Construindo o modelo"
   ]
  },
  {
   "cell_type": "code",
   "execution_count": 0,
   "metadata": {
    "colab": {},
    "colab_type": "code",
    "id": "3ZbCSkNrPrRO"
   },
   "outputs": [],
   "source": [
    "# Construíndo o modelo linear\n",
    "# Fórmula do modelo linear: y = w*x + b\n",
    "linear_model = w*x + b\n",
    "\n",
    "# Mean squared error (erro quadrado médio)\n",
    "cost = tf.reduce_sum(tf.square(linear_model - y)) / (2 * n_samples)\n",
    "\n",
    "# Otimização com Gradient descent\n",
    "optimizer = tf.train.GradientDescentOptimizer(learning_rate).minimize(cost)"
   ]
  },
  {
   "cell_type": "markdown",
   "metadata": {
    "colab_type": "text",
    "id": "iN0l69AeQ-9v"
   },
   "source": [
    "## Executando o grafo computacional, treinando e testando o modelo"
   ]
  },
  {
   "cell_type": "code",
   "execution_count": 6,
   "metadata": {
    "colab": {
     "base_uri": "https://localhost:8080/",
     "height": 815
    },
    "colab_type": "code",
    "id": "mmkf-o6GQ4TI",
    "outputId": "c09daa23-3caf-4cb0-9043-8db38b6a6412"
   },
   "outputs": [
    {
     "name": "stdout",
     "output_type": "stream",
     "text": [
      "Epoch:   200 \t Cost:   0.07783 \t w:0.2346 \t b:0.9192\n",
      "Epoch:   400 \t Cost:   0.07748 \t w:0.2383 \t b:0.8932\n",
      "Epoch:   600 \t Cost:   0.07727 \t w:0.2412 \t b:0.8729\n",
      "Epoch:   800 \t Cost:   0.07714 \t w:0.2434 \t b:0.8569\n",
      "Epoch:  1000 \t Cost:   0.07706 \t w:0.2452 \t b:0.8444\n",
      "Epoch:  1200 \t Cost:   0.07701 \t w:0.2466 \t b:0.8345\n",
      "Epoch:  1400 \t Cost:   0.07698 \t w:0.2477 \t b:0.8268\n",
      "Epoch:  1600 \t Cost:   0.07696 \t w:0.2485 \t b:0.8208\n",
      "Epoch:  1800 \t Cost:   0.07695 \t w:0.2492 \t b: 0.816\n",
      "Epoch:  2000 \t Cost:   0.07694 \t w:0.2497 \t b:0.8123\n",
      "\n",
      "Otimização Concluída!\n",
      "Custo Final de Treinamento: 0.07694017  - w Final: 0.24972683  - b Final: 0.8123289 \n",
      "\n"
     ]
    },
    {
     "data": {
      "image/png": "[encoded data removed]",
      "text/plain": [
       "<Figure size 432x288 with 1 Axes>"
      ]
     },
     "metadata": {
      "tags": []
     },
     "output_type": "display_data"
    },
    {
     "name": "stdout",
     "output_type": "stream",
     "text": [
      "Custo Final em Teste: 0.078687765\n",
      "Diferença Média Quadrada Absoluta: 0.0017475933\n"
     ]
    },
    {
     "data": {
      "image/png": "[encoded data removed]",
      "text/plain": [
       "<Figure size 432x288 with 1 Axes>"
      ]
     },
     "metadata": {
      "tags": []
     },
     "output_type": "display_data"
    }
   ],
   "source": [
    "# Definindo a inicialização das variáveis\n",
    "init = tf.global_variables_initializer()\n",
    "\n",
    "# Iniciando a sessão\n",
    "with tf.Session() as sess:\n",
    "  # Iniciando as variáveis\n",
    "  sess.run(init)\n",
    "  \n",
    "  # Treinamento do modelo\n",
    "  for epoch in range(training_epochs):\n",
    "    \n",
    "    # Otimização com Gradient Descent\n",
    "    sess.run(optimizer, feed_dict = {x: train_x, y: train_y})\n",
    "    \n",
    "    # Display de cada epoch\n",
    "    if (epoch+1) % display_step == 0:\n",
    "      c = sess.run(cost, feed_dict = {x: train_x, y: train_y})\n",
    "      print(\"Epoch:{0:6} \\t Cost:{1:10.4} \\t w:{2:6.4} \\t b:{3:6.4}\".format(epoch+1, c, sess.run(w), sess.run(b)))\n",
    "  \n",
    "  # Imprimindo os parâmetros finais do modelo\n",
    "  print(\"\\nOtimização Concluída!\")\n",
    "  training_cost = sess.run(cost, feed_dict = {x: train_x, y: train_y})\n",
    "  print(\"Custo Final de Treinamento:\", training_cost, \" - w Final:\", sess.run(w), \" - b Final:\", sess.run(b), \"\\n\")\n",
    "  \n",
    "  # Visualizando o resultado\n",
    "  plt.plot(train_x, train_y, \"ro\", label = \"Dados Originais\")\n",
    "  plt.plot(train_x, sess.run(w) * train_x + sess.run(b), label = \"Linha de Regressão\")\n",
    "  plt.legend()\n",
    "  plt.show()\n",
    "  \n",
    "  # Testando o modelo\n",
    "  testing_cost = sess.run(tf.reduce_sum(tf.square(linear_model - y)) / (2 * test_x.shape[0]), \n",
    "                            feed_dict={x: test_x, y: test_y})\n",
    "  \n",
    "  print(\"Custo Final em Teste:\", testing_cost)\n",
    "  print(\"Diferença Média Quadrada Absoluta:\", abs(training_cost - testing_cost))\n",
    "  \n",
    "  # Display em Teste\n",
    "  plt.plot(test_x, test_y, \"bo\", label = \"Dados de Teste\")\n",
    "  plt.plot(train_x, sess.run(w) * train_x + sess.run(b), label = \"Linha de Regressão\")\n",
    "  plt.legend()\n",
    "  plt.show()\n",
    "\n",
    "# Fechando a sessão\n",
    "sess.close()"
   ]
  }
 ],
 "metadata": {
  "colab": {
   "collapsed_sections": [],
   "name": "modelo_regressao_linear.ipynb",
   "provenance": [],
   "version": "0.3.2"
  },
  "kernelspec": {
   "display_name": "Python 3",
   "language": "python",
   "name": "python3"
  },
  "language_info": {
   "codemirror_mode": {
    "name": "ipython",
    "version": 3
   },
   "file_extension": ".py",
   "mimetype": "text/x-python",
   "name": "python",
   "nbconvert_exporter": "python",
   "pygments_lexer": "ipython3",
   "version": "3.7.1"
  }
 },
 "nbformat": 4,
 "nbformat_minor": 1
}
