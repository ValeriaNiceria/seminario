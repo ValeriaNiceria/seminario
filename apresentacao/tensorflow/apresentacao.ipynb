{
 "cells": [
  {
   "cell_type": "markdown",
   "metadata": {
    "slideshow": {
     "slide_type": "-"
    }
   },
   "source": [
    "# TensorFlow\n",
    "### Usando Python"
   ]
  },
  {
   "cell_type": "markdown",
   "metadata": {
    "slideshow": {
     "slide_type": "slide"
    }
   },
   "source": [
    "# O que é TensorFlow?"
   ]
  },
  {
   "cell_type": "markdown",
   "metadata": {
    "slideshow": {
     "slide_type": "subslide"
    }
   },
   "source": [
    "### • É uma biblioteca open-source de computação númerica usando fluxos de grafos, que permite a contrução de modelos de aprendizado de máquina.\n",
    "\n",
    "### • Desenvolvido pela equipe 'Google Brain' que é uma equipe de pesquisa de inteligência artificial no Google. E lançado em novembro de 2015."
   ]
  },
  {
   "cell_type": "markdown",
   "metadata": {
    "slideshow": {
     "slide_type": "slide"
    }
   },
   "source": [
    "# O que são Tensores?"
   ]
  },
  {
   "cell_type": "markdown",
   "metadata": {
    "slideshow": {
     "slide_type": "subslide"
    }
   },
   "source": [
    "### Matemáticamente, um tensor é um vetor N-dimensional, significando que um tensor pode ser usado para representar conjuntos de dados N-dimensionais."
   ]
  },
  {
   "cell_type": "markdown",
   "metadata": {
    "slideshow": {
     "slide_type": "slide"
    }
   },
   "source": [
    "### Ao utilizarmos TensorFlow temos funções representadas por nós e os dados que serão operadas por arestas de um grafo(tensors). Com isso temos um flow de dados sendo trafegado por uma rede de funções."
   ]
  },
  {
   "cell_type": "markdown",
   "metadata": {
    "slideshow": {
     "slide_type": "slide"
    }
   },
   "source": [
    "# Como instalar o TensorFlow?"
   ]
  },
  {
   "cell_type": "markdown",
   "metadata": {
    "slideshow": {
     "slide_type": "subslide"
    }
   },
   "source": [
    "### • Faça o download do [Anaconda](https://www.anaconda.com/distribution/).\n",
    "### • Crie um ambiente com todas as bibliotecas obrigatórias.\n",
    "\n",
    "```sh\n",
    "conda create -n tensorflow python=3.5\n",
    "```\n",
    "```sh\n",
    "activate tensorflow\n",
    "```\n",
    "```sh\n",
    "pip install tensorflow\n",
    "```"
   ]
  },
  {
   "cell_type": "markdown",
   "metadata": {
    "slideshow": {
     "slide_type": "slide"
    }
   },
   "source": [
    "# Referências"
   ]
  },
  {
   "cell_type": "markdown",
   "metadata": {},
   "source": [
    "# Machine Learning?\n",
    "\n",
    "## Inteligência artificial\n",
    "- É um campo da computação que pretende simular inteligências humanas através de software e hardware.\n",
    "- John McCarthy(pessoa que cunhou o termo AI) diz que AI é: \"a ciência e engenharia de produzir máquinas inteligentes\"\n",
    "- O desenvolvimento foi iniciado após a Segunda Guerra por Alan Turning\n",
    "\n",
    "## O que é Machine Learning?\n",
    "- É um subcampo da ciência da computação e da inteligência artificial\n",
    "- Segundo Arthur Samuel(1959) é a \"habilidade de computadores aprenderem sem serem programados explicitamente para isso\"\n",
    "- Machine Learning é o estudo de reconhecimento de padrões e construção de algoritmos para predizer coisas\n",
    "\n",
    "## 3 tipos de aprendizagem de máquina\n",
    "- **Aprendizagem supervisionada** - mapear novos dados a partir de dados já classificados\n",
    "- **Aprendizagem não supervisionada** - separar dados a partir de sua relação com os outros\n",
    "- **Aprendizagem por reforço** -interação do computador com um ambiente dinâmico para ganhos de recompensas\n",
    "\n",
    "## Algoritmos básicos\n",
    "- **Naive Bayes** - Baseado no teorema de Bayes\n",
    "- **Random Forest** - Baseado em árvore de decisão\n",
    "- **SVM (Support vector machines)** - Baseada em classificadores lineares"
   ]
  },
  {
   "cell_type": "markdown",
   "metadata": {},
   "source": [
    "# O que é inteligência artificial?\n",
    "## Qual é a definição de inteligência artificial?\n",
    "- Subdivisão da Ciência da Computação\n",
    "- Criada em 1940\n",
    "- Foi pensada para dar mais uma utilidade para o computador\n",
    "\n"
   ]
  }
 ],
 "metadata": {
  "celltoolbar": "Slideshow",
  "kernelspec": {
   "display_name": "Python 3",
   "language": "python",
   "name": "python3"
  },
  "language_info": {
   "codemirror_mode": {
    "name": "ipython",
    "version": 3
   },
   "file_extension": ".py",
   "mimetype": "text/x-python",
   "name": "python",
   "nbconvert_exporter": "python",
   "pygments_lexer": "ipython3",
   "version": "3.7.3"
  }
 },
 "nbformat": 4,
 "nbformat_minor": 2
}
