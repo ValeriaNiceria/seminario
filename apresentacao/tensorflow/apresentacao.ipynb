{
 "cells": [
  {
   "cell_type": "markdown",
   "metadata": {
    "slideshow": {
     "slide_type": "-"
    }
   },
   "source": [
    "# TensorFlow\n",
    "### Usando Python"
   ]
  },
  {
   "cell_type": "markdown",
   "metadata": {
    "slideshow": {
     "slide_type": "slide"
    }
   },
   "source": [
    "# O que é TensorFlow?"
   ]
  },
  {
   "cell_type": "markdown",
   "metadata": {
    "slideshow": {
     "slide_type": "subslide"
    }
   },
   "source": [
    "### • É uma biblioteca open-source de computação númerica usando fluxos de grafos, que permite a contrução de modelos de aprendizado de máquina.\n",
    "\n",
    "### • Desenvolvido pela equipe 'Google Brain' que é uma equipe de pesquisa de inteligência artificial no Google. E lançado em novembro de 2015."
   ]
  },
  {
   "cell_type": "markdown",
   "metadata": {
    "slideshow": {
     "slide_type": "slide"
    }
   },
   "source": [
    "# O que são Tensores?"
   ]
  },
  {
   "cell_type": "markdown",
   "metadata": {
    "slideshow": {
     "slide_type": "subslide"
    }
   },
   "source": [
    "### Matemáticamente, um tensor é um vetor N-dimensional, significando que um tensor pode ser usado para representar conjuntos de dados N-dimensionais."
   ]
  },
  {
   "cell_type": "markdown",
   "metadata": {
    "slideshow": {
     "slide_type": "slide"
    }
   },
   "source": [
    "### Ao utilizarmos TensorFlow temos funções representadas por nós e os dados que serão operadas por arestas de um grafo(tensors). Com isso temos um flow de dados sendo trafegado por uma rede de funções."
   ]
  },
  {
   "cell_type": "markdown",
   "metadata": {
    "slideshow": {
     "slide_type": "slide"
    }
   },
   "source": [
    "# Como instalar o TensorFlow?"
   ]
  },
  {
   "cell_type": "markdown",
   "metadata": {
    "slideshow": {
     "slide_type": "subslide"
    }
   },
   "source": [
    "### • Faça o download do [Anaconda](https://www.anaconda.com/distribution/).\n",
    "### • Crie um ambiente com todas as bibliotecas obrigatórias.\n",
    "\n",
    "```sh\n",
    "conda create -n tensorflow python=3.5\n",
    "```\n",
    "```sh\n",
    "activate tensorflow\n",
    "```\n",
    "```sh\n",
    "pip install tensorflow\n",
    "```"
   ]
  },
  {
   "cell_type": "markdown",
   "metadata": {
    "slideshow": {
     "slide_type": "slide"
    }
   },
   "source": [
    "# Referências"
   ]
  }
 ],
 "metadata": {
  "celltoolbar": "Slideshow",
  "kernelspec": {
   "display_name": "Python 3",
   "language": "python",
   "name": "python3"
  },
  "language_info": {
   "codemirror_mode": {
    "name": "ipython",
    "version": 3
   },
   "file_extension": ".py",
   "mimetype": "text/x-python",
   "name": "python",
   "nbconvert_exporter": "python",
   "pygments_lexer": "ipython3",
   "version": "3.7.3"
  }
 },
 "nbformat": 4,
 "nbformat_minor": 2
}
